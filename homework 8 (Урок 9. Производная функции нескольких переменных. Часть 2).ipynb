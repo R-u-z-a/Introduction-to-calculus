{
 "cells": [
  {
   "cell_type": "markdown",
   "id": "ea5e7eeb",
   "metadata": {},
   "source": [
    "### Практическое задание"
   ]
  },
  {
   "cell_type": "markdown",
   "id": "639ed3d8",
   "metadata": {},
   "source": [
    "# \n",
    "1. Исследовать на условный экстремум функцию 8x+5y+u=7 если x^(2)+y^(2)=36"
   ]
  },
  {
   "cell_type": "code",
   "execution_count": null,
   "id": "18f8e55e",
   "metadata": {},
   "outputs": [],
   "source": [
    "Решение:"
   ]
  },
  {
   "cell_type": "code",
   "execution_count": null,
   "id": "de14326e",
   "metadata": {},
   "outputs": [],
   "source": [
    "L(x,y,λ)=3-8x+6y+λ*(x^(2)+y^(2)-36)"
   ]
  },
  {
   "cell_type": "code",
   "execution_count": null,
   "id": "3e7afbab",
   "metadata": {},
   "outputs": [],
   "source": [
    "{{L'x=-8+λ*2x=0,},{L'y=6+λ*2y=0,},{L'λ=x^(2)+y^(2)-36=0,}}"
   ]
  },
  {
   "cell_type": "markdown",
   "id": "8da0d5ec",
   "metadata": {},
   "source": [
    "{{x=(4)/(λ,},{y=-3\\λ,},{4\\λ^(2)+(-3\\λ^(2)=36,}}→{{x=4\\λ,},{y=-3\\λ,},{25\\λ^(2)=36}}→{{x=4\\λ},{y=-3\\λ,},{λ^(2)=25\\36}}"
   ]
  },
  {
   "cell_type": "code",
   "execution_count": null,
   "id": "79625f28",
   "metadata": {},
   "outputs": [],
   "source": [
    "L\"xx=2(λ), L\"yy=2(λ), L\"λλ=0, L\"xy=L\"yz=0, L\"xλ=L\"λx=2x, L\"yλ=L\"λy=2y"
   ]
  },
  {
   "cell_type": "code",
   "execution_count": null,
   "id": "9e3f0d26",
   "metadata": {},
   "outputs": [],
   "source": [
    "Матрица Гёссе"
   ]
  },
  {
   "cell_type": "code",
   "execution_count": null,
   "id": "ff019225",
   "metadata": {},
   "outputs": [],
   "source": [
    "{{L''λλ,L''λx,L''λy},{L''zλ,L''xx,L''xy},{L''yλ,L''yx,L''yy}}→{{0,2x,2y},{2x,2λ,0},{2y,0,2λ}}"
   ]
  },
  {
   "cell_type": "code",
   "execution_count": null,
   "id": "d68a9f0e",
   "metadata": {},
   "outputs": [],
   "source": [
    "Найдем определитель в общем виде."
   ]
  },
  {
   "cell_type": "code",
   "execution_count": null,
   "id": "79ba2329",
   "metadata": {},
   "outputs": [],
   "source": [
    "Δ={{0,2x,2y},{2x,2λ,0},{2y,0,2λ}}={{+,-,+},{-,+,-},{+,-,+}}=0*{{2λ,0},{0,2λ}}-2x*{{2x,0},{2y,2λ}}+2y*{{2x,2λ},{2y,0}}=(-2x)"
   ]
  },
  {
   "cell_type": "code",
   "execution_count": null,
   "id": "99d94b87",
   "metadata": {},
   "outputs": [],
   "source": [
    "Δ=-8λ*36=-288λ"
   ]
  },
  {
   "cell_type": "markdown",
   "id": "57965c27",
   "metadata": {},
   "source": [
    "# \n",
    "2. Исследовать на условный экстремум функцию U=2x^(2)+12xy+32y^(2)+15 если x^(2)+16y^(2)=64"
   ]
  },
  {
   "cell_type": "code",
   "execution_count": null,
   "id": "2b722338",
   "metadata": {},
   "outputs": [],
   "source": [
    "Решение"
   ]
  },
  {
   "cell_type": "code",
   "execution_count": null,
   "id": "bca80e89",
   "metadata": {},
   "outputs": [],
   "source": [
    "Δ={{0,2x,32y},{2x,4+2λ,12},{32y,12,64+32λ}}={{+,-,+},{-,+,-},{+,-,+}}=-2x*{{2x,12},{32y,64+32λ}}+32y*{{2x,4+2λ},{32y,12}}=(-2x)*(128x+64xλ-384y)+32y*(24x-128y-64yλ)=-256Power[x,2]-128Power[x,2]λ+768xy+768xy-4096Power[y,2]-2048Power[y,2]λ=-256(Power[x,2]+16Power[y,2])-128λ(Power[x,2]+16Power[y,2])+1536xy=-256*64-128λ*64+1536xy=-16384-8192λ+1536xy"
   ]
  },
  {
   "cell_type": "markdown",
   "id": "464ac64d",
   "metadata": {},
   "source": [
    "# \n",
    "3. Численно найти хотя бы один действительный корень системы нелинейных уравнений: {{[x,2],-[y,2]+3x[y,3]-2[x,2][y,2]+2x-3y-5=0},{3[y,3],+2[x,2]+2[x,3]y-5[x,2][y,2]+5=0}}"
   ]
  },
  {
   "cell_type": "code",
   "execution_count": 17,
   "id": "340f3f44",
   "metadata": {},
   "outputs": [],
   "source": [
    "import numpy as np\n",
    "from scipy.optimize import fsolve, broyden2\n",
    "import math"
   ]
  },
  {
   "cell_type": "code",
   "execution_count": 18,
   "id": "bd0acf44",
   "metadata": {},
   "outputs": [
    {
     "name": "stdout",
     "output_type": "stream",
     "text": [
      "1.273302064528599 1.6620391224277693 1\n"
     ]
    }
   ],
   "source": [
    "def equations(p):\n",
    "    x, y = p\n",
    "    return (x**2 - y**2 + 3 * x * y**3 - 2 * x**2 * y**2 + 2 * x - 3 * y - 5,\n",
    "           3 * y**3 - 2 * x**2 + 2 * x**3 * y - 5 * x**2 * y**2 + 5)\n",
    "\n",
    "(x, y), info, ier, mesg = fsolve(equations,(10, 10), full_output=True)\n",
    "print(x, y, ier)"
   ]
  },
  {
   "cell_type": "markdown",
   "id": "0567f536",
   "metadata": {},
   "source": [
    "# \n",
    "4*. Численно найти все  5  действительных корней."
   ]
  },
  {
   "cell_type": "code",
   "execution_count": 22,
   "id": "baa34212",
   "metadata": {},
   "outputs": [
    {
     "name": "stdout",
     "output_type": "stream",
     "text": [
      "x = 1.273302\ty =  1.662039\n",
      "x = -3.653080\ty = -0.274763\n",
      "x = 2.494357\ty =  0.708318\n",
      "x = 1.375687\ty = -0.174758\n",
      "x = 2.217754\ty =  0.610194\n"
     ]
    }
   ],
   "source": [
    "def equations(p):\n",
    "    x, y = p\n",
    "    return (x**2 - y**2 + 3 * x * y**3 - 2 * x**2 * y**2 + 2 * x - 3 * y - 5,\n",
    "           3 * y**3 - 2 * x**2 + 2 * x**3 * y - 5 * x**2 * y**2 + 5)\n",
    "\n",
    "solv = set()\n",
    "length = 100\n",
    "step = 4\n",
    "for x0 in np.arange(-length, length, step):\n",
    "    for y0 in np.arange(-length, length, step):\n",
    "        (x, y), info, ier, mesg = fsolve(equations,(x0, y0), full_output=True)\n",
    "        if (ier == 1):\n",
    "            solv.add((round(x, 6), round(y, 6)))\n",
    "\n",
    "for key in solv:\n",
    "    print('x = %f\\ty = % f' %key)"
   ]
  },
  {
   "cell_type": "code",
   "execution_count": null,
   "id": "2d680a8d",
   "metadata": {},
   "outputs": [],
   "source": []
  }
 ],
 "metadata": {
  "kernelspec": {
   "display_name": "Python 3",
   "language": "python",
   "name": "python3"
  },
  "language_info": {
   "codemirror_mode": {
    "name": "ipython",
    "version": 3
   },
   "file_extension": ".py",
   "mimetype": "text/x-python",
   "name": "python",
   "nbconvert_exporter": "python",
   "pygments_lexer": "ipython3",
   "version": "3.8.8"
  }
 },
 "nbformat": 4,
 "nbformat_minor": 5
}
