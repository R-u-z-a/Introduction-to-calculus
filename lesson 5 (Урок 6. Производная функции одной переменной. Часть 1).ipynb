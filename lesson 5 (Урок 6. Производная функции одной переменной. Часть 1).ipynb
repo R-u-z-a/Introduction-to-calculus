{
 "cells": [
  {
   "cell_type": "markdown",
   "id": "bc53f52d",
   "metadata": {},
   "source": [
    "### Практическое задание"
   ]
  },
  {
   "cell_type": "code",
   "execution_count": null,
   "id": "747f346f",
   "metadata": {},
   "outputs": [],
   "source": [
    "1. Найти производную функции: y=(1)/(x)+(2)/(x^(2))-(5)/(x^(3))+\\sqrt(x)-\\root(3)(x)+(3)/(\\sqrt(x))"
   ]
  },
  {
   "cell_type": "code",
   "execution_count": null,
   "id": "b0eb9b75",
   "metadata": {},
   "outputs": [],
   "source": [
    "решение: -(1)/(x^(2))-(4)/(x^(3))+(15)/(x^(4))+(1)/(2x^((1)/(2)))-(1)/(3x^((2)/(3)))-(3)/(2x^((3)/(2)))"
   ]
  },
  {
   "cell_type": "code",
   "execution_count": null,
   "id": "284b53d2",
   "metadata": {},
   "outputs": [],
   "source": [
    "2. Найти производную функции: y= x * \\sqrt(1+x^(2))"
   ]
  },
  {
   "cell_type": "code",
   "execution_count": null,
   "id": "ca51dad0",
   "metadata": {},
   "outputs": [],
   "source": [
    "решение: (d)/(dx)[f(x)q(x)]=f(x)(d)/(dx)[g(x)]+g(x)(d)/(dx)[f(x)] = (2x^(2)+1)/((x^(2)+1)^((1)/(2)))"
   ]
  },
  {
   "cell_type": "code",
   "execution_count": null,
   "id": "ac63b6ea",
   "metadata": {},
   "outputs": [],
   "source": [
    "3. Найти производную функции: y= (2x)/(1-x^(2))"
   ]
  },
  {
   "cell_type": "code",
   "execution_count": null,
   "id": "bb75cac4",
   "metadata": {},
   "outputs": [],
   "source": [
    "решение: y= (2 * (1-x^(2))-2x * (-2x))/((1-x^(2))2)= (2x^(2)+2)/((1-x^(2))^(2))"
   ]
  },
  {
   "cell_type": "code",
   "execution_count": null,
   "id": "f0005543",
   "metadata": {},
   "outputs": [],
   "source": [
    "5. Найти производную функции: y = ln(x+\\sqrt(x^(2)+1))"
   ]
  },
  {
   "cell_type": "code",
   "execution_count": null,
   "id": "9b6f9c2c",
   "metadata": {},
   "outputs": [],
   "source": [
    "Решение: y = ln(x+\\sqrt(x^(2)+1)) = (1)/((x^(2)+1)^((1)/(2)))"
   ]
  },
  {
   "cell_type": "code",
   "execution_count": null,
   "id": "0caf25d2",
   "metadata": {},
   "outputs": [],
   "source": []
  }
 ],
 "metadata": {
  "kernelspec": {
   "display_name": "Python 3",
   "language": "python",
   "name": "python3"
  },
  "language_info": {
   "codemirror_mode": {
    "name": "ipython",
    "version": 3
   },
   "file_extension": ".py",
   "mimetype": "text/x-python",
   "name": "python",
   "nbconvert_exporter": "python",
   "pygments_lexer": "ipython3",
   "version": "3.8.8"
  }
 },
 "nbformat": 4,
 "nbformat_minor": 5
}
