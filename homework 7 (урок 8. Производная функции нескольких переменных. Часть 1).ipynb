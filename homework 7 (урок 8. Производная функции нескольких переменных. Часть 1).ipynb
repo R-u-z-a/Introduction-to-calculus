{
 "cells": [
  {
   "cell_type": "markdown",
   "id": "bd6d5b25",
   "metadata": {},
   "source": [
    "### Практическое задание"
   ]
  },
  {
   "cell_type": "code",
   "execution_count": null,
   "id": "39d88bbe",
   "metadata": {},
   "outputs": [],
   "source": [
    "1. Найти частные производные первого и второго порядка. Убедиться в равенстве смешанных производных: U=(256)/(x)+(x^(2))/(y)+(y^(2))/(z)+z^(2)"
   ]
  },
  {
   "cell_type": "code",
   "execution_count": null,
   "id": "c68e9481",
   "metadata": {},
   "outputs": [],
   "source": [
    "Первого порядка: U'x=3x^(2)+3y^(2)-39\n",
    "    U'y=6xy-36\n",
    "    U'z=2z+2"
   ]
  },
  {
   "cell_type": "code",
   "execution_count": null,
   "id": "47ad0a61",
   "metadata": {},
   "outputs": [],
   "source": [
    "Второго порядка\n",
    "От x: U''xx=6x\n",
    "      U''xy=6y\n",
    "      U''xz=0"
   ]
  },
  {
   "cell_type": "code",
   "execution_count": null,
   "id": "133222fc",
   "metadata": {},
   "outputs": [],
   "source": [
    "От y: U''yx=6y\n",
    "      U''yy=6x\n",
    "      U''yz=0"
   ]
  },
  {
   "cell_type": "code",
   "execution_count": null,
   "id": "f39a304b",
   "metadata": {},
   "outputs": [],
   "source": [
    "От z: U''yz=0\n",
    "      U''zy=0\n",
    "      U''zz=2"
   ]
  },
  {
   "cell_type": "code",
   "execution_count": null,
   "id": "28fcc66e",
   "metadata": {},
   "outputs": [],
   "source": [
    "2. Найти частные производные первого и второго порядка. Убедиться в равенстве смешанных производных: U=(256)/(x)+(x^(2))/(y)+(y2)/(z)+z^(2)"
   ]
  },
  {
   "cell_type": "code",
   "execution_count": null,
   "id": "656f027d",
   "metadata": {},
   "outputs": [],
   "source": [
    "Первого порядка:\n",
    "    U'x=-(256)/(x^(2))+(2x)/(y)\n",
    "    U'y=-(x^(2))/(y^(2))+(2y)/(z)\n",
    "    U'z=-(y^(2))/(z^(2))+2z"
   ]
  },
  {
   "cell_type": "code",
   "execution_count": null,
   "id": "16d9c3b4",
   "metadata": {},
   "outputs": [],
   "source": [
    "Второго порядка\n",
    "От x: U''xx=(512)/(x^(3))+(2)/(y)\n",
    "      U''xy=-(2x)/(y^(2))\n",
    "      U''xz=0"
   ]
  },
  {
   "cell_type": "code",
   "execution_count": null,
   "id": "b2a8cc91",
   "metadata": {},
   "outputs": [],
   "source": [
    "От y: U''yx=-(2x)/(y^(2))\n",
    "      U''yy=-(2x)/(y^(3))+(2)/(z)\n",
    "      U''yz=-(2y)/(z^(2))"
   ]
  },
  {
   "cell_type": "code",
   "execution_count": null,
   "id": "e7aabaf0",
   "metadata": {},
   "outputs": [],
   "source": [
    "От z: U''zx=0\n",
    "      U''zy=-(2y)/(z^(2))\n",
    "      U''zz=(2y^(2))/(z^(3))+2"
   ]
  },
  {
   "cell_type": "code",
   "execution_count": null,
   "id": "8ca22faa",
   "metadata": {},
   "outputs": [],
   "source": [
    "3. Найти производную функции  U=x^(2)+y^(2)+z^(2)  по направлению вектора  c→(−9,8,−12)  в точке  M(8,−12,9)"
   ]
  },
  {
   "cell_type": "code",
   "execution_count": null,
   "id": "84459101",
   "metadata": {},
   "outputs": [],
   "source": [
    "Решение: U'->c=(->c_(0) * gradU)"
   ]
  },
  {
   "cell_type": "code",
   "execution_count": null,
   "id": "436c63f7",
   "metadata": {},
   "outputs": [],
   "source": [
    "6. Исследовать на экстремум функцию: U=x^(2)y+(1)/(3)y^(3)+2x^(2)+3y^(2)-1 "
   ]
  },
  {
   "cell_type": "code",
   "execution_count": null,
   "id": "9812f2e6",
   "metadata": {},
   "outputs": [],
   "source": [
    "Решение: (d)/(dx)[x^(n)]=nx^(n-1)= 2xy+4x"
   ]
  }
 ],
 "metadata": {
  "kernelspec": {
   "display_name": "Python 3",
   "language": "python",
   "name": "python3"
  },
  "language_info": {
   "codemirror_mode": {
    "name": "ipython",
    "version": 3
   },
   "file_extension": ".py",
   "mimetype": "text/x-python",
   "name": "python",
   "nbconvert_exporter": "python",
   "pygments_lexer": "ipython3",
   "version": "3.8.8"
  }
 },
 "nbformat": 4,
 "nbformat_minor": 5
}
