{
 "cells": [
  {
   "cell_type": "markdown",
   "id": "97f5007f",
   "metadata": {},
   "source": [
    "### Практическое задание"
   ]
  },
  {
   "cell_type": "code",
   "execution_count": null,
   "id": "ab6b85ca",
   "metadata": {},
   "outputs": [],
   "source": [
    "1. Найти производную y_(x)^(') функции: arctan((Y)/(x))=ln\\sqrt(x^(2)+y^(2))"
   ]
  },
  {
   "cell_type": "code",
   "execution_count": null,
   "id": "346be643",
   "metadata": {},
   "outputs": [],
   "source": [
    "решение: (1)/(1+((y)/(x))^(2))*(y^(')*x-y*1)/(x^(2))=(1)/(2)*(1)/(x^(2)+y^(2))*(2x+2y*y^('))\n",
    "    (y^(')*x-y*1)/(x^(2)+y^(2))=(x+y*y^('))/(x^(2)+y^(2))\n",
    "    y^(')*x-y=x+y*y^(')\n",
    "    y^(')*x-y=x+y*y^(')\n",
    "    y^(')=(x+y)/(x-y)"
   ]
  },
  {
   "cell_type": "code",
   "execution_count": null,
   "id": "9e0f5551",
   "metadata": {},
   "outputs": [],
   "source": [
    "2. Найти производную y_(x)^(') функции: \\begin{cases}\n",
    "{y=(t^(2))/(t-1), x = (t)/(t^(2)-1)"
   ]
  },
  {
   "cell_type": "code",
   "execution_count": null,
   "id": "a562749b",
   "metadata": {},
   "outputs": [],
   "source": [
    "решение: тут я вообще понял что нужно делать, затупил."
   ]
  },
  {
   "cell_type": "code",
   "execution_count": null,
   "id": "2638871e",
   "metadata": {},
   "outputs": [],
   "source": [
    "3. Найти производную с помощью логарифмирования:  y = (x^(2)+2)^(5)*(3x-x^(3))^(3)"
   ]
  },
  {
   "cell_type": "code",
   "execution_count": null,
   "id": "eb71e02b",
   "metadata": {},
   "outputs": [],
   "source": [
    "решение:  y^(') = f(x)*(\\ln f(x)^(3))^(') (не совсем понимаю, что за степень ' такая)\n",
    "            y^(') = (x^(2)+2)^(5)*(3x-x3)^(3)*((5*2x)/(x^(2)+2)+(3*(3-3x^(2)))/(3x-x^(3)))"
   ]
  },
  {
   "cell_type": "code",
   "execution_count": null,
   "id": "d9255c7b",
   "metadata": {},
   "outputs": [],
   "source": [
    "4. Найти производную функции с помощью логарифмирования:  y= x^(x)"
   ]
  },
  {
   "cell_type": "code",
   "execution_count": null,
   "id": "c7a4e829",
   "metadata": {},
   "outputs": [],
   "source": []
  }
 ],
 "metadata": {
  "kernelspec": {
   "display_name": "Python 3",
   "language": "python",
   "name": "python3"
  },
  "language_info": {
   "codemirror_mode": {
    "name": "ipython",
    "version": 3
   },
   "file_extension": ".py",
   "mimetype": "text/x-python",
   "name": "python",
   "nbconvert_exporter": "python",
   "pygments_lexer": "ipython3",
   "version": "3.8.8"
  }
 },
 "nbformat": 4,
 "nbformat_minor": 5
}
