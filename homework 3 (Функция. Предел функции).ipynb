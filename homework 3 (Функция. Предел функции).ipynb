{
 "cells": [
  {
   "cell_type": "markdown",
   "id": "e2ec4755",
   "metadata": {},
   "source": [
    "### 1. Найти предел функции:\n",
    "\n",
    "а)limx→6x2−36x2−x−30\n",
    "\n",
    "б)limx→7x2−49x2−13x+42 \n",
    "\n",
    "в∗)limx→7x+2−−−−√−x+20−−−−−√3x+9−−−−√4−2 \n",
    "\n",
    "г)limx→03xtg4x1−cos4x \n",
    "\n",
    "д∗∗)limx→02–√x2sin4x(1−cos2x)32 \n",
    "\n",
    "е)limx→∞(4x4x+3)5x27x−1 \n",
    "\n",
    "ж∗)limx→+05x−1x\n",
    "\n",
    "з∗)limx→+∞ln(x2−x+1)ln(x10+x+1)"
   ]
  },
  {
   "cell_type": "code",
   "execution_count": null,
   "id": "903bf0c3",
   "metadata": {},
   "outputs": [],
   "source": [
    "а) lim_(x->6) x^(2)−36/x^(2)−x−30 = 0/0 = lim_(x->6) (x-6)(x+36)/(x-6)(x+30) = x+36/x+30 = 42/36\n",
    "(посчитал в проге решение этой задачи и ответ получился 12/11, то есть послед уровнение должно выглядеть так x+6/x+5. Как к этому предти мой мозг мне не позволяет)."
   ]
  },
  {
   "cell_type": "code",
   "execution_count": null,
   "id": "dc59170c",
   "metadata": {},
   "outputs": [],
   "source": [
    "б) lim_(x->7)(x^(2)+49)/(x^(2)-13x+42) = 0/0 = lim_(x->7) (x-7)(x+49)/(x-7)(13x+42) = x+49/13+42 = 56/55 (Таже самая херня)"
   ]
  },
  {
   "cell_type": "code",
   "execution_count": null,
   "id": "6a3776b3",
   "metadata": {},
   "outputs": [],
   "source": [
    "г) lim_(x->0)(3x tg 4x)/(1-cos 4x) = 0/0 = lim_(x->0)(3x tg(x/2))/(1-cos(x/3)) = 3/1"
   ]
  },
  {
   "cell_type": "code",
   "execution_count": 2,
   "id": "12874fb6",
   "metadata": {},
   "outputs": [
    {
     "ename": "SyntaxError",
     "evalue": "unmatched ')' (<ipython-input-2-a5911329ecb9>, line 1)",
     "output_type": "error",
     "traceback": [
      "\u001b[1;36m  File \u001b[1;32m\"<ipython-input-2-a5911329ecb9>\"\u001b[1;36m, line \u001b[1;32m1\u001b[0m\n\u001b[1;33m    е) lim_(x->0)((4x)/(4x+3))^((5x^(2))/(7x-1)) = я не понял вообще как вычленить тут единицу. В примере изложены примеры решения, но я не понимаю от куда, что вытекает.\u001b[0m\n\u001b[1;37m     ^\u001b[0m\n\u001b[1;31mSyntaxError\u001b[0m\u001b[1;31m:\u001b[0m unmatched ')'\n"
     ]
    }
   ],
   "source": [
    "е) lim_(x->0)((4x)/(4x+3))^((5x^(2))/(7x-1)) = я не понял вообще как вычленить тут единицу. В примере изложены примеры решения, но я не понимаю от куда, что вытекает. "
   ]
  },
  {
   "cell_type": "code",
   "execution_count": null,
   "id": "282d19f1",
   "metadata": {},
   "outputs": [],
   "source": []
  }
 ],
 "metadata": {
  "kernelspec": {
   "display_name": "Python 3",
   "language": "python",
   "name": "python3"
  },
  "language_info": {
   "codemirror_mode": {
    "name": "ipython",
    "version": 3
   },
   "file_extension": ".py",
   "mimetype": "text/x-python",
   "name": "python",
   "nbconvert_exporter": "python",
   "pygments_lexer": "ipython3",
   "version": "3.8.8"
  }
 },
 "nbformat": 4,
 "nbformat_minor": 5
}
