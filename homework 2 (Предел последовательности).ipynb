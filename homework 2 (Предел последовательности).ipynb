{
 "cells": [
  {
   "cell_type": "markdown",
   "id": "42471470",
   "metadata": {},
   "source": [
    "# 1. Найти предел последовательности:\n",
    "\n",
    "а)limn→∞(23−2n2)(3n2+17)24n6+n−1\n",
    "\n",
    "б)limn→∞(97−2n)32n(3n2+15)+8n \n",
    "\n",
    "в)limn→∞2n3+13n(n+18)(27−n)(2n+19)2 \n",
    "\n",
    "г)limn→∞(√n2+1−n) \n",
    "\n",
    "д)limn→∞(−4)n+5⋅7n(−4)n−1+7n+2 \n",
    "\n",
    "e)∗limn→∞(11⋅2+12⋅3+13⋅4+...+1(n−1)⋅n)"
   ]
  },
  {
   "cell_type": "raw",
   "id": "91e098c6",
   "metadata": {},
   "source": [
    "a) lim_(n->\\infty )((23-2n^(2))(3n^(2)+17)^(2))/(4n^(6)+n- 1) = -9/2"
   ]
  },
  {
   "cell_type": "raw",
   "id": "ed7e9a08",
   "metadata": {},
   "source": [
    "б) lim_(n->\\infty )((97-2n)^(3))/(2n(3n^(2)+15)+8n) = -4/3 "
   ]
  },
  {
   "cell_type": "raw",
   "id": "9dac251d",
   "metadata": {},
   "source": [
    "в) lim_(n->\\infty )(2n^(3)+13n(n+18))/((27-n)(2n+19)2) = -infty"
   ]
  },
  {
   "cell_type": "raw",
   "id": "f9ecbd9c",
   "metadata": {},
   "source": [
    "г) lim_(n->\\infty )(\\sqrt(n^(2)+1-n)) = infty"
   ]
  },
  {
   "cell_type": "raw",
   "id": "240c132d",
   "metadata": {},
   "source": [
    "д) lim_(n->\\infty )((-4)^(n)+5*7^(n))/((-4)^(n-1)+7^(n+2)) = 5/49"
   ]
  },
  {
   "cell_type": "markdown",
   "id": "06e54a1b",
   "metadata": {},
   "source": [
    "### 2. Представьте  1  в виде суммы трех обыкновенных дробей с разными знаменателями и числителем равным  1 ."
   ]
  },
  {
   "cell_type": "markdown",
   "id": "f3657984",
   "metadata": {},
   "source": [
    "### \n",
    "a) 1=1/2 плюс 1/3 плюс 1/6.\n",
    "\n",
    "б) а на 1/6. Получим: 1/6=1/12 плюс 1/18 плюс 1/36. Значит, 1=1/2 плюс 1/3 плюс 1/12 плюс 1/18 плюс 1/36."
   ]
  },
  {
   "cell_type": "code",
   "execution_count": null,
   "id": "950b3b32",
   "metadata": {},
   "outputs": [],
   "source": []
  }
 ],
 "metadata": {
  "kernelspec": {
   "display_name": "Python 3",
   "language": "python",
   "name": "python3"
  },
  "language_info": {
   "codemirror_mode": {
    "name": "ipython",
    "version": 3
   },
   "file_extension": ".py",
   "mimetype": "text/x-python",
   "name": "python",
   "nbconvert_exporter": "python",
   "pygments_lexer": "ipython3",
   "version": "3.8.8"
  }
 },
 "nbformat": 4,
 "nbformat_minor": 5
}
