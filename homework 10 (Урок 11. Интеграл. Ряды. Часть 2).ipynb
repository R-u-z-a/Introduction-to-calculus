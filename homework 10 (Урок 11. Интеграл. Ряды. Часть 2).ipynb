{
 "cells": [
  {
   "cell_type": "markdown",
   "id": "09c3fc9b",
   "metadata": {},
   "source": [
    "### Практическое задание"
   ]
  },
  {
   "cell_type": "markdown",
   "id": "7a703c79",
   "metadata": {},
   "source": [
    "1. Исследовать сходимость ряда: (1)/(2\\sqrt(2))+(1)/(3\\sqrt(3))+...+(1)/((n+1)\\sqrt(n+1))+...=\\sum_(n=1)^(+\\infty ) (1)/((n+1)\\sqrt(n+1))"
   ]
  },
  {
   "cell_type": "code",
   "execution_count": null,
   "id": "1f8d2bab",
   "metadata": {},
   "outputs": [],
   "source": [
    "Решенние"
   ]
  },
  {
   "cell_type": "code",
   "execution_count": 10,
   "id": "c426e56b",
   "metadata": {},
   "outputs": [
    {
     "data": {
      "image/png": "[encoded data removed]",
      "text/latex": [
       "$\\displaystyle \\frac{1}{\\left(n + 1\\right)^{\\frac{3}{2}}}$"
      ],
      "text/plain": [
       "    1     \n",
       "──────────\n",
       "       3/2\n",
       "(n + 1)   "
      ]
     },
     "execution_count": 10,
     "metadata": {},
     "output_type": "execute_result"
    }
   ],
   "source": [
    "from sympy import *\n",
    "init_printing()\n",
    "n=Symbol('n')\n",
    "f=1 / (n + 1) / (sqrt(n+1))\n",
    "f"
   ]
  },
  {
   "cell_type": "code",
   "execution_count": 11,
   "id": "e3a14203",
   "metadata": {},
   "outputs": [
    {
     "data": {
      "image/png": "[encoded data removed]",
      "text/latex": [
       "$\\displaystyle \\sqrt{2}$"
      ],
      "text/plain": [
       "√2"
      ]
     },
     "execution_count": 11,
     "metadata": {},
     "output_type": "execute_result"
    }
   ],
   "source": [
    "integrate(f,(n, 1, +oo))"
   ]
  },
  {
   "cell_type": "raw",
   "id": "c1d3a1b7",
   "metadata": {},
   "source": [
    "2. Исследовать сходимость ряда: (100)/(1!)+(1000^(2))/(2!)+...+(1000^(n))/(n!)+...=\\sum_(n=1)^(+\\infty ) (1000^(n))/(n!)"
   ]
  },
  {
   "cell_type": "markdown",
   "id": "12488045",
   "metadata": {},
   "source": [
    "Решение"
   ]
  },
  {
   "cell_type": "raw",
   "id": "b4f66add",
   "metadata": {},
   "source": [
    "Предел по методу фурье (экспонента)"
   ]
  },
  {
   "cell_type": "code",
   "execution_count": null,
   "id": "f8820fe5",
   "metadata": {},
   "outputs": [],
   "source": [
    "\\lim_(n->+\\infty )((1000)/(n))^(n)"
   ]
  },
  {
   "cell_type": "code",
   "execution_count": 12,
   "id": "44fb5910",
   "metadata": {},
   "outputs": [
    {
     "data": {
      "image/png": "[encoded data removed]",
      "text/latex": [
       "$\\displaystyle \\left(\\frac{1000}{n}\\right)^{- n}$"
      ],
      "text/plain": [
       "      -n\n",
       "⎛1000⎞  \n",
       "⎜────⎟  \n",
       "⎝ n  ⎠  "
      ]
     },
     "execution_count": 12,
     "metadata": {},
     "output_type": "execute_result"
    }
   ],
   "source": [
    "from sympy import *\n",
    "init_printing()\n",
    "n=Symbol('n')\n",
    "f=1 / (1000/n)**n\n",
    "f"
   ]
  },
  {
   "cell_type": "code",
   "execution_count": null,
   "id": "1e2b2539",
   "metadata": {},
   "outputs": [],
   "source": [
    "вот такое у меня получилось решение. "
   ]
  }
 ],
 "metadata": {
  "kernelspec": {
   "display_name": "Python 3",
   "language": "python",
   "name": "python3"
  },
  "language_info": {
   "codemirror_mode": {
    "name": "ipython",
    "version": 3
   },
   "file_extension": ".py",
   "mimetype": "text/x-python",
   "name": "python",
   "nbconvert_exporter": "python",
   "pygments_lexer": "ipython3",
   "version": "3.8.8"
  }
 },
 "nbformat": 4,
 "nbformat_minor": 5
}
