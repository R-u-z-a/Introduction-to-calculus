{
 "cells": [
  {
   "cell_type": "markdown",
   "id": "0a79875e",
   "metadata": {},
   "source": [
    "### 1. Найти предел функции:\n",
    "\n",
    "а)limx→6x2−36x2−x−30\n",
    "\n",
    "б)limx→7x2−49x2−13x+42 \n",
    "\n",
    "в∗)limx→7x+2−−−−√−x+20−−−−−√3x+9−−−−√4−2 \n",
    "\n",
    "г)limx→03xtg4x1−cos4x \n",
    "\n",
    "д∗∗)limx→02–√x2sin4x(1−cos2x)32 \n",
    "\n",
    "е)limx→∞(4x4x+3)5x27x−1 \n",
    "\n",
    "ж∗)limx→+05x−1x\n",
    "\n",
    "з∗)limx→+∞ln(x2−x+1)ln(x10+x+1)"
   ]
  },
  {
   "cell_type": "raw",
   "id": "56bae2ae",
   "metadata": {},
   "source": [
    "а) lim_(x->6) x^(2)−36/x^(2)−x−30 = 0/0 = lim_(x->6) (x-6)(x+36)/(x-6)(x+30) = x+36/x+30 = 42/36\n",
    "(посчитал в проге решение этой задачи и ответ получился 12/11, то есть послед уровнение должно выглядеть так x+6/x+5. Как к этому предти мой мозг мне не позволяет)."
   ]
  },
  {
   "cell_type": "raw",
   "id": "da8a3d16",
   "metadata": {},
   "source": [
    "б) lim_(x->7)(x^(2)+49)/(x^(2)-13x+42) = 0/0 = lim_(x->7) (x-7)(x+49)/(x-7)(13x+42) = x+49/13+42 = 56/55 (Таже самая херня)"
   ]
  },
  {
   "cell_type": "raw",
   "id": "aad0bc60",
   "metadata": {},
   "source": [
    "г) lim_(x->0)(3x tg 4x)/(1-cos 4x) = 0/0 = lim_(x->0)(3x tg(x/2))/(1-cos(x/3)) = 3/1"
   ]
  },
  {
   "cell_type": "code",
   "execution_count": null,
   "id": "8fd4c1d2",
   "metadata": {},
   "outputs": [],
   "source": [
    "е) lim_(x->0)((4x)/(4x+3))^((5x^(2))/(7x-1)) = я не понял вообще как вычленить тут единицу. В примере изложены примеры решения, но я не понимаю от куда, что вытекает. "
   ]
  }
 ],
 "metadata": {
  "kernelspec": {
   "display_name": "Python 3",
   "language": "python",
   "name": "python3"
  },
  "language_info": {
   "codemirror_mode": {
    "name": "ipython",
    "version": 3
   },
   "file_extension": ".py",
   "mimetype": "text/x-python",
   "name": "python",
   "nbconvert_exporter": "python",
   "pygments_lexer": "ipython3",
   "version": "3.8.8"
  }
 },
 "nbformat": 4,
 "nbformat_minor": 5
}
