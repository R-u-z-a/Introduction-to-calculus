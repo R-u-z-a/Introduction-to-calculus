{
 "cells": [
  {
   "cell_type": "markdown",
   "id": "90d467c5",
   "metadata": {},
   "source": [
    "### Практическое задание"
   ]
  },
  {
   "cell_type": "raw",
   "id": "cc5af00a",
   "metadata": {},
   "source": [
    "1. Вычислить неопределенный интеграл \\int (2x+3)/((x-2)(x+5))dx"
   ]
  },
  {
   "cell_type": "raw",
   "id": "78197d60",
   "metadata": {},
   "source": [
    "Решение"
   ]
  },
  {
   "cell_type": "code",
   "execution_count": 7,
   "id": "c9d379c0",
   "metadata": {},
   "outputs": [],
   "source": [
    "from sympy import *\n",
    "import math\n",
    "from sympy.abc import a, x, y\n",
    "from sympy import init_printing"
   ]
  },
  {
   "cell_type": "code",
   "execution_count": 21,
   "id": "deae5106",
   "metadata": {},
   "outputs": [
    {
     "data": {
      "image/png": "[encoded data removed]",
      "text/latex": [
       "$\\displaystyle 2 x + \\frac{3 x \\left(x + 5\\right)}{x - 2}$"
      ],
      "text/plain": [
       "      3⋅x⋅(x + 5)\n",
       "2⋅x + ───────────\n",
       "         x - 2   "
      ]
     },
     "execution_count": 21,
     "metadata": {},
     "output_type": "execute_result"
    }
   ],
   "source": [
    "init_printing()\n",
    "x=Symbol('x')\n",
    "f = 2 * x + 3 / (x - 2) * (x + 5)\n",
    "f"
   ]
  },
  {
   "cell_type": "code",
   "execution_count": 7,
   "id": "5ddff29e",
   "metadata": {},
   "outputs": [
    {
     "data": {
      "image/png": "[encoded data removed]",
      "text/latex": [
       "$\\displaystyle - \\frac{2 e^{2}}{9}$"
      ],
      "text/plain": [
       "    2 \n",
       "-2⋅e  \n",
       "──────\n",
       "  9   "
      ]
     },
     "execution_count": 7,
     "metadata": {},
     "output_type": "execute_result"
    }
   ],
   "source": [
    "integrate(f,(x, 0, pi))"
   ]
  },
  {
   "cell_type": "raw",
   "id": "2c50b732",
   "metadata": {},
   "source": [
    "2. Вычислить неопределенный интеграл \\int e^(2_(x))cos3xdx"
   ]
  },
  {
   "cell_type": "code",
   "execution_count": null,
   "id": "4984e9d3",
   "metadata": {},
   "outputs": [],
   "source": [
    "Решение"
   ]
  },
  {
   "cell_type": "code",
   "execution_count": 5,
   "id": "0460dd31",
   "metadata": {},
   "outputs": [
    {
     "data": {
      "image/png": "[encoded data removed]",
      "text/latex": [
       "$\\displaystyle e^{2} x \\cos{\\left(3 x \\right)}$"
      ],
      "text/plain": [
       " 2           \n",
       "e ⋅x⋅cos(3⋅x)"
      ]
     },
     "execution_count": 5,
     "metadata": {},
     "output_type": "execute_result"
    }
   ],
   "source": [
    "from sympy import *\n",
    "init_printing()\n",
    "x=Symbol('x')\n",
    "e=Symbol('e')\n",
    "f = e**2 * x * cos(3 * x)\n",
    "f"
   ]
  },
  {
   "cell_type": "code",
   "execution_count": 8,
   "id": "45d3038b",
   "metadata": {},
   "outputs": [
    {
     "data": {
      "image/png": "[encoded data removed]",
      "text/latex": [
       "$\\displaystyle \\frac{\\pi^{3} x \\cos{\\left(3 x \\right)}}{3}$"
      ],
      "text/plain": [
       " 3           \n",
       "π ⋅x⋅cos(3⋅x)\n",
       "─────────────\n",
       "      3      "
      ]
     },
     "execution_count": 8,
     "metadata": {},
     "output_type": "execute_result"
    }
   ],
   "source": [
    "integrate(f,(e, 0, pi))"
   ]
  },
  {
   "cell_type": "raw",
   "id": "d594c6ac",
   "metadata": {},
   "source": [
    "3. Вычислить определенный интеграл \\int_0^(ln2) xe^(-x)dx"
   ]
  },
  {
   "cell_type": "code",
   "execution_count": null,
   "id": "a56bc2ef",
   "metadata": {},
   "outputs": [],
   "source": [
    "\\int_0^(ln2) xe^(-x)dx = x\\int e^(-x)-\\int ((1)\\int e^(-x)dx)dx, x(e^(-x))/(-1)\\int (e^(-x))/(-1) dx, -xe^(-x) (-e^(-x))/(-(-1))\\int_0^(ln2)  => -xe^(-x)-e^(-x)\\int_0^(ln2)  => [-ln2e^(-ln2)-e^(-ln2)]-[o-e^(-0)] => -ln^(2^(-1))+1-2^(-1)ln2-2^(-1)+1=(1)/(2)-(1)/(2)ln2=(1)/(2)(1-ln2)"
   ]
  }
 ],
 "metadata": {
  "kernelspec": {
   "display_name": "Python 3",
   "language": "python",
   "name": "python3"
  },
  "language_info": {
   "codemirror_mode": {
    "name": "ipython",
    "version": 3
   },
   "file_extension": ".py",
   "mimetype": "text/x-python",
   "name": "python",
   "nbconvert_exporter": "python",
   "pygments_lexer": "ipython3",
   "version": "3.8.8"
  }
 },
 "nbformat": 4,
 "nbformat_minor": 5
}
